{
  "nbformat": 4,
  "nbformat_minor": 0,
  "metadata": {
    "colab": {
      "provenance": [],
      "toc_visible": true,
      "authorship_tag": "ABX9TyMdEhug8dUchhdbl/v9JK+p",
      "include_colab_link": true
    },
    "kernelspec": {
      "name": "python3",
      "display_name": "Python 3"
    },
    "language_info": {
      "name": "python"
    }
  },
  "cells": [
    {
      "cell_type": "markdown",
      "metadata": {
        "id": "view-in-github",
        "colab_type": "text"
      },
      "source": [
        "<a href=\"https://colab.research.google.com/github/trainocate-japan/extending_genai_with_langchain/blob/main/chapter3/langchain_basics.ipynb\" target=\"_parent\"><img src=\"https://colab.research.google.com/assets/colab-badge.svg\" alt=\"Open In Colab\"/></a>"
      ]
    },
    {
      "cell_type": "markdown",
      "source": [
        "# Section 0: ハンズオンの準備\n",
        "---"
      ],
      "metadata": {
        "id": "2SXS3qjHO5J9"
      }
    },
    {
      "cell_type": "markdown",
      "source": [
        "## 必要なライブラリのインストール"
      ],
      "metadata": {
        "id": "Atc5HQiZ58vA"
      }
    },
    {
      "cell_type": "code",
      "source": [
        "!pip install -q langchain langchain-openai langchain-community"
      ],
      "metadata": {
        "id": "xNJhQoCptr7m"
      },
      "execution_count": null,
      "outputs": []
    },
    {
      "cell_type": "code",
      "source": [
        "# !pip install -q langchain==0.2.14 langchain-openai==0.1.22 langchain-community==0.2.12 langchain-core==0.2.33 langchain-text-splitters==0.2.2"
      ],
      "metadata": {
        "id": "5L-ErUJuMtEx"
      },
      "execution_count": null,
      "outputs": []
    },
    {
      "cell_type": "code",
      "source": [
        "!pip freeze | grep langchain"
      ],
      "metadata": {
        "id": "15QyqnKk1CTN"
      },
      "execution_count": null,
      "outputs": []
    },
    {
      "cell_type": "markdown",
      "source": [
        "## API キーの設定\n",
        "*  左ナビゲーションで [**シークレット**] アイコン (鍵形のアイコン) をクリックします。\n",
        "*  [**新しいシークレットを追加**] をクリックし、[**名前**] に `OPENAI_API_KEY` と入力し、その [**値**] に指定されたキーを入力します。\n",
        "*  [**新しいシークレットを追加**] をクリックし、[**名前**] に `LANGCHAIN_API_KEY` と入力し、その [**値**] に LangSmith で作成してコピーしておいた API キーを入力します。\n",
        "*  設定した 2 つのシークレットの [**ノートブックからのアクセス**] を有効にします。\n",
        "*  入力が完了したら、下のセルを実行します。"
      ],
      "metadata": {
        "id": "AzQOWZ8y6KU-"
      }
    },
    {
      "cell_type": "code",
      "execution_count": null,
      "metadata": {
        "id": "r3-Ha_aLspoO"
      },
      "outputs": [],
      "source": [
        "import os\n",
        "from google.colab import userdata\n",
        "\n",
        "os.environ[\"LANGCHAIN_TRACING_V2\"] = \"true\"\n",
        "os.environ[\"LANGCHAIN_PROJECT\"] = \"default\"\n",
        "os.environ[\"LANGCHAIN_ENDPOINT\"] = \"https://api.smith.langchain.com\"\n",
        "os.environ[\"LANGCHAIN_API_KEY\"] = userdata.get('LANGCHAIN_API_KEY')\n",
        "\n",
        "os.environ[\"OPENAI_API_KEY\"] = userdata.get('OPENAI_API_KEY')"
      ]
    },
    {
      "cell_type": "markdown",
      "source": [
        "# Section 1: LangChain の基本\n",
        "---"
      ],
      "metadata": {
        "id": "5S-7iYdsiIrI"
      }
    },
    {
      "cell_type": "markdown",
      "source": [
        "## LLMs\n",
        "https://python.langchain.com/v0.2/docs/concepts/#llms  "
      ],
      "metadata": {
        "id": "IORhWlqn8Fgl"
      }
    },
    {
      "cell_type": "markdown",
      "source": [
        "[langchain_openai.llms.base.OpenAI](https://python.langchain.com/v0.2/api_reference/openai/llms/langchain_openai.llms.base.OpenAI.html)"
      ],
      "metadata": {
        "id": "O8mtRsNxExM1"
      }
    },
    {
      "cell_type": "code",
      "execution_count": null,
      "metadata": {
        "id": "WY3sdyngepk-"
      },
      "outputs": [],
      "source": [
        "from langchain_openai import OpenAI\n",
        "\n",
        "llm = OpenAI(model=\"gpt-3.5-turbo-instruct\", temperature=0)\n",
        "\n",
        "result = llm.invoke(\"自己紹介してください。\")\n",
        "print(result)"
      ]
    },
    {
      "cell_type": "markdown",
      "source": [
        "\n",
        "\n",
        "*   LLM モデルは文字列を入力として受け取り、文字列を出力する。\n",
        "*   単純な一問一答の場合に使用する。\n",
        "*   この程度であれば、LnagChain を使う意味はあまりない。\n",
        "\n"
      ],
      "metadata": {
        "id": "hNXYD6YlAN_w"
      }
    },
    {
      "cell_type": "markdown",
      "source": [
        "## Chat models\n",
        "https://python.langchain.com/v0.2/docs/concepts/#chat-models"
      ],
      "metadata": {
        "id": "zonwWRVNFPmh"
      }
    },
    {
      "cell_type": "markdown",
      "source": [
        "[langchain_openai.chat_models.base.ChatOpenAI](https://python.langchain.com/v0.2/api_reference/openai/chat_models/langchain_openai.chat_models.base.ChatOpenAI.html)"
      ],
      "metadata": {
        "id": "0IR1R8m9FAbo"
      }
    },
    {
      "cell_type": "code",
      "source": [
        "from langchain_openai import ChatOpenAI\n",
        "from langchain_core.messages import HumanMessage, SystemMessage\n",
        "\n",
        "model = ChatOpenAI(model=\"gpt-4o-mini\", temperature=0.1)"
      ],
      "metadata": {
        "id": "zVzLWK95zWa9"
      },
      "execution_count": null,
      "outputs": []
    },
    {
      "cell_type": "code",
      "source": [
        "messages = [\n",
        "    SystemMessage(content=\"以下の日本語を英語に翻訳してください。\"),\n",
        "    HumanMessage(content=\"こんにちは!\"),\n",
        "]\n",
        "\n",
        "response = model.invoke(messages)\n",
        "response"
      ],
      "metadata": {
        "id": "7ORh4L5uz4-p"
      },
      "execution_count": null,
      "outputs": []
    },
    {
      "cell_type": "markdown",
      "source": [
        "*   Chat Model は Message のリストを入力として受け取り、Message を出力する。\n",
        "*   Message は `role` `content` `response_metadata` を属性として持つ。\n",
        "*   LangChain の `SystemMessage` `HumanMessage` `AIMessage` は、それぞれ Chat Complettion API の `role: \"system\"` `role: \"user\"` `role: \"assistant\"` に対応している。\n",
        "\n",
        "```\n",
        "{\n",
        "  \"model\": \"gpt-4o-mini\"\n",
        "  \"messages\": [\n",
        "    {\"role\": \"system\", \"content\": \"You are a helpful assistant.\"},\n",
        "    {\"role\": \"user\", \"content\": \"こんにちは！私はジョンと言います！\"},\n",
        "    {\"role\": \"assistant\": \"content\": \"こんにちは、ジョンさん！どのようにお手伝いできますか？\"},\n",
        "    {\"role\": \"user\": \"content\": \"私の名前がわかりますか？\"}\n",
        "  ],\n",
        "  (省略)\n",
        "}\n",
        "```\n",
        "\n"
      ],
      "metadata": {
        "id": "JADpgp_ND_wj"
      }
    },
    {
      "cell_type": "markdown",
      "source": [
        "### `response` の内容を表示する"
      ],
      "metadata": {
        "id": "X079PwDdjiuC"
      }
    },
    {
      "cell_type": "code",
      "source": [
        "print(response)"
      ],
      "metadata": {
        "id": "jX-v8dQs9d1H"
      },
      "execution_count": null,
      "outputs": []
    },
    {
      "cell_type": "markdown",
      "source": [
        "### `content` だけを表示する"
      ],
      "metadata": {
        "id": "o66B12iCjxIj"
      }
    },
    {
      "cell_type": "code",
      "source": [
        "print(response.content)"
      ],
      "metadata": {
        "id": "eyHT8gGF992D"
      },
      "execution_count": null,
      "outputs": []
    },
    {
      "cell_type": "markdown",
      "source": [
        "### 会話の履歴を入力に含める"
      ],
      "metadata": {
        "id": "_FEnjNQrkCX3"
      }
    },
    {
      "cell_type": "code",
      "source": [
        "from langchain_openai import ChatOpenAI\n",
        "from langchain_core.messages import AIMessage, HumanMessage, SystemMessage\n",
        "\n",
        "model = ChatOpenAI(model=\"gpt-4o-mini\", temperature=0)\n",
        "\n",
        "messages = [\n",
        "    SystemMessage(content=\"You are a helpful assistant.\"),\n",
        "    HumanMessage(content=\"こんにちは！私はジョンと言います！\"),\n",
        "    AIMessage(content=\"こんにちは、ジョンさん！どのようにお手伝いできますか？\"),\n",
        "    HumanMessage(content= \"私の名前が分かりますか？\")\n",
        "]\n",
        "\n",
        "result = model.invoke(messages)\n",
        "print(result.content)"
      ],
      "metadata": {
        "id": "ZLmolvlAF3IA"
      },
      "execution_count": null,
      "outputs": []
    },
    {
      "cell_type": "markdown",
      "source": [
        "\n",
        "\n",
        "*   `AIMessage` を入力に含めることができる。\n",
        "*   AI の回答も含めた過去の会話履歴を入力に含めることによって、会話を継続することができる (後述)。\n",
        "\n"
      ],
      "metadata": {
        "id": "8Pap0kN1G8uJ"
      }
    },
    {
      "cell_type": "markdown",
      "source": [
        "OpenAI 以外にも、様々な Chat model を利用することができる。  \n",
        "https://python.langchain.com/v0.2/docs/integrations/chat/"
      ],
      "metadata": {
        "id": "urufYqNHELt7"
      }
    },
    {
      "cell_type": "markdown",
      "source": [
        "## Prompt templates\n",
        "プロンプトをテンプレート化しておき、ユーザーの入力で補完してプロンプトを作成する際に使用する。  \n",
        "https://python.langchain.com/v0.2/docs/concepts/#prompt-templates\n"
      ],
      "metadata": {
        "id": "6M977dOaNgtt"
      }
    },
    {
      "cell_type": "markdown",
      "source": [
        "### PromptTemplate\n",
        "[langchain_core.prompts.prompt.PromptTemplate](https://python.langchain.com/v0.2/api_reference/core/prompts/langchain_core.prompts.prompt.PromptTemplate.html)"
      ],
      "metadata": {
        "id": "mlS7tY6CPq1d"
      }
    },
    {
      "cell_type": "code",
      "source": [
        "from langchain_core.prompts import PromptTemplate\n",
        "\n",
        "template = \"\"\"以下の料理のレシピを考えてください。\n",
        "\n",
        "料理名: {dish}\"\"\"\n",
        "\n",
        "prompt_template = PromptTemplate(\n",
        "   input_variables=[\"dish\"],\n",
        "   template=template,\n",
        ")\n",
        "\n",
        "prompt = prompt_template.format(dish=\"カレー\")\n",
        "print(prompt)"
      ],
      "metadata": {
        "id": "XiyH3_KAPb4H"
      },
      "execution_count": null,
      "outputs": []
    },
    {
      "cell_type": "markdown",
      "source": [
        "`from_template` メソッドを使って以下のように書くこともできる。"
      ],
      "metadata": {
        "id": "-Py5CxxfTTvN"
      }
    },
    {
      "cell_type": "code",
      "source": [
        "prompt_template = PromptTemplate.from_template(\"\"\"以下の料理のレシピを考えてください。\n",
        "\n",
        "料理名: {dish}\"\"\")\n",
        "\n",
        "prompt = prompt_template.format(dish=\"カレー\")\n",
        "print(prompt)"
      ],
      "metadata": {
        "id": "ZhK_HfK5TcS-"
      },
      "execution_count": null,
      "outputs": []
    },
    {
      "cell_type": "code",
      "source": [
        "result = llm.invoke(prompt)\n",
        "print(result)"
      ],
      "metadata": {
        "id": "EtVcTh2gSCOw"
      },
      "execution_count": null,
      "outputs": []
    },
    {
      "cell_type": "markdown",
      "source": [
        "*   PromptTemplate はプロンプトを文字列で生成するため、LLM に入力していることに注意。\n",
        "*   Chat Model に直接入力することはできない。\n",
        "\n"
      ],
      "metadata": {
        "id": "3OhnoeHfYlR2"
      }
    },
    {
      "cell_type": "markdown",
      "source": [
        "### ChatPromptTemplate\n",
        "*  PromptTemplate を Chat model の形式に対応させたもの。  \n",
        "*  SystemMessage、HumanMessage、AIMessage をそれぞれテンプレート化して、ChatPromptTemplate というクラスでまとめて扱うことができる。"
      ],
      "metadata": {
        "id": "JTpzppPyVech"
      }
    },
    {
      "cell_type": "code",
      "source": [
        "from langchain_openai import ChatOpenAI\n",
        "\n",
        "from langchain_core.prompts import ChatPromptTemplate, SystemMessagePromptTemplate, HumanMessagePromptTemplate, AIMessagePromptTemplate, MessagesPlaceholder\n",
        "from langchain_core.messages import AIMessage, HumanMessage, SystemMessage"
      ],
      "metadata": {
        "id": "8JKPwMrlavXd"
      },
      "execution_count": null,
      "outputs": []
    },
    {
      "cell_type": "code",
      "source": [
        "chat_prompt = ChatPromptTemplate.from_messages([\n",
        "    SystemMessagePromptTemplate.from_template(\"あなたはプログラミング言語 Python の高度なスキルをもつプロフェッショナルのエンジニアです。次の質問に答えてください：\"),\n",
        "    HumanMessagePromptTemplate.from_template(\"{question}\")\n",
        "])\n",
        "\n",
        "messages = chat_prompt.format_prompt(question=\"簡単な Hello World のコードを作成してください。\").to_messages()\n",
        "\n",
        "print(messages)"
      ],
      "metadata": {
        "id": "GcE9DMhZcBwB"
      },
      "execution_count": null,
      "outputs": []
    },
    {
      "cell_type": "markdown",
      "source": [
        "以下のように書くこともできる。"
      ],
      "metadata": {
        "id": "t3-YzJEPC_Av"
      }
    },
    {
      "cell_type": "code",
      "source": [
        "chat_prompt = ChatPromptTemplate.from_messages([\n",
        "    (\n",
        "        \"system\",\n",
        "        \"あなたはプログラミング言語 Python の高度なスキルをもつプロフェッショナルのエンジニアです。次の質問に答えてください：\"\n",
        "    ),\n",
        "    (\n",
        "        \"human\",\n",
        "        \"{question}\"\n",
        "    )\n",
        "])\n",
        "\n",
        "messages = chat_prompt.format_prompt(question=\"簡単な Hello World のコードを作成してください。\").to_messages()\n",
        "\n",
        "print(messages)"
      ],
      "metadata": {
        "id": "0nmyY2uk__D6"
      },
      "execution_count": null,
      "outputs": []
    },
    {
      "cell_type": "markdown",
      "source": [
        "ChatPromptTemplate によって Message のリストが出力されるので、それを Chat Medel の入力として使用することができる。\n",
        "\n"
      ],
      "metadata": {
        "id": "umxk7ion-8Bc"
      }
    },
    {
      "cell_type": "code",
      "source": [
        "model = ChatOpenAI(model=\"gpt-4o-mini\", temperature=0)\n",
        "result = model.invoke(messages)\n",
        "print(result.content)"
      ],
      "metadata": {
        "id": "b84c02WwfJB9"
      },
      "execution_count": null,
      "outputs": []
    },
    {
      "cell_type": "markdown",
      "source": [
        "HumanMessage だけにまとめてしままう場合は、`from_template` メソッドを使用することもできる。  \n",
        "この場合は、コンテキストも HumanMessage のなかに含まれる。"
      ],
      "metadata": {
        "id": "fTBLpn-UI4jz"
      }
    },
    {
      "cell_type": "code",
      "source": [
        "chat_prompt = ChatPromptTemplate.from_template(\"\"\"あなたはプログラミング言語 Python の高度なスキルをもつプロフェッショナルのエンジニアです。次の質問に答えてください：\n",
        "\n",
        "{question}\"\"\")\n",
        "\n",
        "messages = chat_prompt.format_prompt(question=\"簡単な Hello World のコードを作成してください。\").to_messages()\n",
        "print(messages)"
      ],
      "metadata": {
        "id": "gQEnBQOcI_Vk"
      },
      "execution_count": null,
      "outputs": []
    },
    {
      "cell_type": "code",
      "source": [
        "result = model.invoke(messages)\n",
        "print(result.content)"
      ],
      "metadata": {
        "id": "X3UYqOX4Kp6S"
      },
      "execution_count": null,
      "outputs": []
    },
    {
      "cell_type": "markdown",
      "source": [
        "## Output parsers\n",
        "https://python.langchain.com/v0.2/docs/concepts/#output-parsers"
      ],
      "metadata": {
        "id": "kTMlmRP50e-2"
      }
    },
    {
      "cell_type": "markdown",
      "source": [
        "### StrOutputParser\n",
        "Chat model の出力をテキストに変換する (AIMessage の `content` だけを抽出する) Output parser\n",
        "[langchain_core.output_parsers.string.StrOutputParser](https://python.langchain.com/v0.2/api_reference/core/output_parsers/langchain_core.output_parsers.string.StrOutputParser.html)"
      ],
      "metadata": {
        "id": "_fnz23NjFQBg"
      }
    },
    {
      "cell_type": "code",
      "source": [
        "from langchain_core.output_parsers import StrOutputParser\n",
        "\n",
        "parser = StrOutputParser()"
      ],
      "metadata": {
        "id": "73Zs1U9TF4Om"
      },
      "execution_count": null,
      "outputs": []
    },
    {
      "cell_type": "code",
      "source": [
        "answer = parser.invoke(result)\n",
        "print(answer)"
      ],
      "metadata": {
        "id": "dHweKFFtF_cU"
      },
      "execution_count": null,
      "outputs": []
    },
    {
      "cell_type": "markdown",
      "source": [
        "# Section 2: Chain と LCEL\n",
        "---"
      ],
      "metadata": {
        "id": "sNbVXl1TnUNA"
      }
    },
    {
      "cell_type": "markdown",
      "source": [
        "ここまでのコードの書き方では、各ステップの結果物を変数に入れ次のステップに渡す必要があり、コードの量が増えてしまう。"
      ],
      "metadata": {
        "id": "8vl4ko_WSLfD"
      }
    },
    {
      "cell_type": "code",
      "source": [
        "from langchain_openai import ChatOpenAI\n",
        "from langchain_core.messages import AIMessage, HumanMessage, SystemMessage\n",
        "from langchain_core.prompts import ChatPromptTemplate\n",
        "from langchain_core.output_parsers import StrOutputParser\n",
        "\n",
        "# Chat model のインスタンスを作成\n",
        "model = ChatOpenAI(model=\"gpt-4o-mini\", temperature=0)\n",
        "\n",
        "# Prompt template のインスタンスを作成\n",
        "chat_prompt = ChatPromptTemplate.from_messages([\n",
        "    (\n",
        "        \"system\",\n",
        "        \"あなたはプログラミング言語 Python の高度なスキルをもつプロフェッショナルのエンジニアです。次の質問に答えてください：\"\n",
        "    ),\n",
        "    (\n",
        "        \"human\",\n",
        "        \"{question}\"\n",
        "    )\n",
        "])\n",
        "# 完全なプロンプトを作る\n",
        "messages = chat_prompt.format_prompt(question=\"簡単な Hello World のコードを作成してください。\").to_messages()\n",
        "\n",
        "# Output parser のインスタンスを作成\n",
        "parser = StrOutputParser()\n",
        "\n",
        "# Chat model にプロンプトを入力して結果を得る\n",
        "result = model.invoke(messages)\n",
        "\n",
        "# Chat model の出力を Output parser に入力して変換する\n",
        "answer = parser.invoke(result)\n",
        "print(answer)"
      ],
      "metadata": {
        "id": "jSvyGZMvNOMs"
      },
      "execution_count": null,
      "outputs": []
    },
    {
      "cell_type": "markdown",
      "source": [
        "LangChain では、その名が示す通り、Chain という形で複数のステップをつなぎ合わせて実行することができる。\n",
        "Chain 同士をつなぎ合わせて Chain を作ることもできるため、単にモデルから出力を得て終わりではなく、処理を連鎖的につないで実行することができる。"
      ],
      "metadata": {
        "id": "rwrCsn7nPzED"
      }
    },
    {
      "cell_type": "markdown",
      "source": [
        "## Runnables\n",
        "* LangChain の主要コンポーネントは Runnable プロトコル (インターフェース) を実装しており、いくつかの共通のメソッドで操作できるようになっている。\n",
        "* Runnable プロトコルを実装しているコンポーネントのオブジェクト自体を Runnable と呼ぶこともある。。\n",
        "\n"
      ],
      "metadata": {
        "id": "D-nCLtXiSgVn"
      }
    },
    {
      "cell_type": "code",
      "source": [
        "chat_prompt = ChatPromptTemplate.from_messages([\n",
        "    (\n",
        "        \"system\",\n",
        "        \"あなたはプログラミング言語 Python の高度なスキルをもつプロフェッショナルのエンジニアです。次の質問に答えてください：\"\n",
        "    ),\n",
        "    (\n",
        "        \"human\",\n",
        "        \"{question}\"\n",
        "    )\n",
        "])\n",
        "messages = chat_prompt.invoke({\"question\": \"簡単な Hello World のコードを作成してください。\"})\n",
        "print(messages)"
      ],
      "metadata": {
        "id": "_ai-MPgAUZdk"
      },
      "execution_count": null,
      "outputs": []
    },
    {
      "cell_type": "code",
      "source": [
        "result = model.invoke(messages)\n",
        "print(result)"
      ],
      "metadata": {
        "id": "dG7wGwNq1VlL"
      },
      "execution_count": null,
      "outputs": []
    },
    {
      "cell_type": "code",
      "source": [
        "answer = parser.invoke(result)\n",
        "print(answer)"
      ],
      "metadata": {
        "id": "YquQ1EjA1ZE5"
      },
      "execution_count": null,
      "outputs": []
    },
    {
      "cell_type": "code",
      "source": [
        "chain = chat_prompt | model | parser\n",
        "answer = chain.invoke({\"question\": \"簡単な Hello World のコードを作成してください。\"})\n",
        "print(answer)"
      ],
      "metadata": {
        "id": "AdaVS4bT1dOJ"
      },
      "execution_count": null,
      "outputs": []
    },
    {
      "cell_type": "markdown",
      "source": [
        "## LCEL (LangChain Expression Language) による Chain の記述\n",
        "\n",
        "*   現在の LangChain では LCEL という記法でコードを記述することが推奨されている。\n",
        "*   LCEL では Runnable をパイプ (`|`) でつないで Chain を記述することができる。\n",
        "*   Chain もまた Runnable であり、`invoke` メソッドで実行することができる。\n",
        "\n"
      ],
      "metadata": {
        "id": "Tl11QGoap8QV"
      }
    },
    {
      "cell_type": "markdown",
      "source": [
        "先ほどのコードは LCEL を使って以下のよう書くことができる。"
      ],
      "metadata": {
        "id": "T1YS76CwX_Hy"
      }
    },
    {
      "cell_type": "code",
      "source": [
        "from langchain_openai import ChatOpenAI\n",
        "from langchain_core.messages import AIMessage, HumanMessage, SystemMessage\n",
        "from langchain_core.prompts import ChatPromptTemplate\n",
        "from langchain_core.output_parsers import StrOutputParser\n",
        "\n",
        "# Chat model のインスタンスを作成\n",
        "model = ChatOpenAI(model=\"gpt-4o-mini\", temperature=0)\n",
        "\n",
        "# Prompt template のインスタンスを作成\n",
        "chat_prompt = ChatPromptTemplate.from_messages([\n",
        "    (\n",
        "        \"system\",\n",
        "        \"あなたはプログラミング言語 Python の高度なスキルをもつプロフェッショナルのエンジニアです。次の質問に答えてください：\"\n",
        "    ),\n",
        "    (\n",
        "        \"human\",\n",
        "        \"{question}\"\n",
        "    )\n",
        "])\n",
        "\n",
        "# Output parser のインスタンスを作成\n",
        "parser = StrOutputParser()\n",
        "\n",
        "# Chain を定義する\n",
        "chain = chat_prompt | model | parser\n",
        "\n",
        "# Chain を実行する\n",
        "answer = chain.invoke({\"question\": \"簡単な Hello World のコードを作成してください。\"})\n",
        "print(answer)"
      ],
      "metadata": {
        "id": "ZK0B7Pe9YGYz"
      },
      "execution_count": null,
      "outputs": []
    },
    {
      "cell_type": "markdown",
      "source": [
        "## Streaming による出力\n",
        "*   モデルが長い文章を回答する場合、モデルが最後まで回答し終えてから出力すると、ユーザーしばらく待たされることになりユーザビリティが下がる。\n",
        "*   streaming で出力することにより、モデルからの回答を順次出力していくことが可能になる。\n",
        "*   Runnables は `stream` や `astream` メソッドをサポートしており、これを使用するとでモデルの回答を streaming で出力することができる。\n",
        "\n",
        "https://python.langchain.com/v0.2/docs/tutorials/chatbot/#streaming"
      ],
      "metadata": {
        "id": "11HG63EqZMNy"
      }
    },
    {
      "cell_type": "markdown",
      "source": [
        "\n",
        "### streamning しない場合\n"
      ],
      "metadata": {
        "id": "UePLZjm2Mhjr"
      }
    },
    {
      "cell_type": "code",
      "source": [
        "from langchain_openai import ChatOpenAI\n",
        "from langchain_core.messages import AIMessage, HumanMessage, SystemMessage\n",
        "from langchain_core.prompts import ChatPromptTemplate\n",
        "from langchain_core.output_parsers import StrOutputParser\n",
        "\n",
        "# Chat model を用意する\n",
        "model = ChatOpenAI(model=\"gpt-4o-mini\", temperature=0)\n",
        "\n",
        "# プロンプトのテンプレートを作る\n",
        "chat_prompt = ChatPromptTemplate.from_messages([\n",
        "    (\n",
        "        \"system\",\n",
        "        \"あなたは AI や機械学習の高度なスキルをもつプロフェッショナルのデータサイエンティストです。次の質問に答えてください：\"\n",
        "    ),\n",
        "    (\n",
        "        \"human\",\n",
        "        \"{question}\"\n",
        "    )\n",
        "])\n",
        "\n",
        "# Output parser を用意する\n",
        "parser = StrOutputParser()\n",
        "\n",
        "# Chain を定義する\n",
        "chain = chat_prompt | model | parser\n",
        "\n",
        "# Chain を実行する\n",
        "answer = chain.invoke({\"question\": \"AI と機械学習、ディープラーニングの関係性をわかりやすく1000文字程度で説明してください。\"})\n",
        "print(answer)"
      ],
      "metadata": {
        "id": "m7AiaWXkZP2n"
      },
      "execution_count": null,
      "outputs": []
    },
    {
      "cell_type": "markdown",
      "source": [
        "### streaming で出力する場合\n",
        "[How to stream runnables](https://python.langchain.com/v0.2/docs/how_to/streaming/)\n"
      ],
      "metadata": {
        "id": "bf-ccp8KOl9H"
      }
    },
    {
      "cell_type": "code",
      "source": [
        "from langchain_openai import ChatOpenAI\n",
        "from langchain_core.messages import AIMessage, HumanMessage, SystemMessage\n",
        "from langchain_core.prompts import ChatPromptTemplate\n",
        "from langchain_core.output_parsers import StrOutputParser\n",
        "\n",
        "# Chat model を用意する\n",
        "model = ChatOpenAI(model=\"gpt-4o-mini\", temperature=0)\n",
        "\n",
        "# プロンプトのテンプレートを作る\n",
        "chat_prompt = ChatPromptTemplate.from_messages([\n",
        "    (\n",
        "        \"system\",\n",
        "        \"あなたは AI や機械学習の高度なスキルをもつプロフェッショナルのデータサイエンティストです。次の質問に答えてください：\"\n",
        "    ),\n",
        "    (\n",
        "        \"human\",\n",
        "        \"{question}\"\n",
        "    )\n",
        "])\n",
        "\n",
        "# Output parser を用意する\n",
        "parser = StrOutputParser()\n",
        "\n",
        "# Chain を定義する\n",
        "chain = chat_prompt | model | parser\n",
        "\n",
        "# Chain を実行して streaming で出力する\n",
        "for chunk in chain.stream({\"question\": \"AI と機械学習、ディープラーニングの関係性をわかりやすく1000文字程度で説明してください。\"}):\n",
        "  print(chunk, end='', flush=True)\n"
      ],
      "metadata": {
        "id": "W1_cFX9PGF9a"
      },
      "execution_count": null,
      "outputs": []
    },
    {
      "cell_type": "markdown",
      "source": [
        "## LCEL を理解するための How-to ガイド\n",
        "https://python.langchain.com/v0.2/docs/how_to/#langchain-expression-language-lcel"
      ],
      "metadata": {
        "id": "rqrJ7k7YBvXa"
      }
    },
    {
      "cell_type": "markdown",
      "source": [
        "# Secton 3: Chat history\n",
        "---\n",
        "https://python.langchain.com/v0.2/docs/concepts/#chat-history"
      ],
      "metadata": {
        "id": "9JW3TX082wrn"
      }
    },
    {
      "cell_type": "markdown",
      "source": [
        "\n",
        "\n",
        "*   ここまではモデルとの一問一答での対話だったが、チャットでは会話の継続性が必要になる。\n",
        "*   ただ、生成 AI モデルの API はステートレスであり、モデル側に会話の履歴を記憶させることはできない。\n",
        "*   しかし、Chat history を使用して会話の履歴をプロンプトに追加していくことで、会話に継続性をもたせることができるようになる。\n",
        "\n"
      ],
      "metadata": {
        "id": "1J4Ld6tTi-JA"
      }
    },
    {
      "cell_type": "markdown",
      "source": [
        "### 会話履歴がない場合"
      ],
      "metadata": {
        "id": "uYf1vPqekPo_"
      }
    },
    {
      "cell_type": "code",
      "source": [
        "from langchain_openai import ChatOpenAI\n",
        "from langchain_core.prompts import ChatPromptTemplate, SystemMessagePromptTemplate, HumanMessagePromptTemplate, AIMessagePromptTemplate\n",
        "from langchain_core.messages import AIMessage, HumanMessage, SystemMessage\n",
        "from langchain_core.output_parsers import StrOutputParser\n",
        "\n",
        "# Chat model を用意する\n",
        "model = ChatOpenAI(model=\"gpt-4o-mini\", temperature=0)\n",
        "\n",
        "# Chat template を用意する\n",
        "chat_prompt = ChatPromptTemplate.from_messages(\n",
        "  [\n",
        "      SystemMessagePromptTemplate.from_template(\"あなたは人間と会話するチャットボットです\"),\n",
        "      HumanMessagePromptTemplate.from_template(\"{input}\")\n",
        "  ]\n",
        ")\n",
        "\n",
        "# Output parser を用意する\n",
        "parser = StrOutputParser()\n",
        "\n",
        "# Chain を定義する\n",
        "chain = chat_prompt | model | parser"
      ],
      "metadata": {
        "id": "rV7XI7GK2V3t"
      },
      "execution_count": null,
      "outputs": []
    },
    {
      "cell_type": "markdown",
      "source": [
        "以下のセルを実行して、以前の入力や回答に言及する継続的な会話をしてみましょう。"
      ],
      "metadata": {
        "id": "7BasAkDnsZYg"
      }
    },
    {
      "cell_type": "code",
      "source": [
        "print('Write Quit, Exit or Bye to quit.')\n",
        "while True:\n",
        "    q = input('Your prompt: ')\n",
        "    if q.lower() in ['quit', 'exit', 'bye']:\n",
        "        print('Quitting ... bye bye!')\n",
        "        break\n",
        "\n",
        "    answer = chain.invoke({\"input\": q})\n",
        "    print(f'\\nAnswer: {answer}')"
      ],
      "metadata": {
        "id": "YmKxVlcP36_d"
      },
      "execution_count": null,
      "outputs": []
    },
    {
      "cell_type": "markdown",
      "source": [
        "## LangChain の記憶 (会話履歴) に関する機能\n",
        "\n",
        "### Chat History - BaseChatMessageHistory を継承したクラスたち\n",
        "[langchain_community.chat_message_histories](https://python.langchain.com/v0.2/api_reference/community/chat_message_histories.html)  \n",
        "\n",
        "#### 例：\n",
        "`ChatMessageHistory`, `SQLChatMessegeHistory`, `RedisChatMessageHistory`, `DynamoDBChatMessageHistory`, etc.  \n",
        "\n",
        "\n",
        "#### 概要：\n",
        "*  決まった形式で会話履歴をデータベース (やメモリ) に保存する機能を提供する。\n",
        "*  裏で会話履歴の Message を保存するリストを持っていて、そのリストに対する Message の追加や読み出しができる。\n",
        "*  データベースに読み書きする機能がクラスに実装されているため、その部分のコードを書く必要がなく、バックエンドのデータベースが異なっていてもコードとしてはほぼ同じインターフェイスで操作できる。\n",
        "*  RDB で自前でテーブル設計して会話履歴を保存したい場合は、これらのクラスが実行している処理を自前で実装すればよい。\n",
        "\n",
        "\n",
        "#### 使い方：\n",
        "*  `add_user_message`/`add_ai_message` メソッドを使って、自前で履歴を管理する\n",
        "*  `RunnableWithMessageHistory` と合わせて使用する\n",
        "\n",
        "---\n",
        "### Memory - BaseMemory を継承したクラスたち\n",
        "[langchain.memory](https://python.langchain.com/v0.2/api_reference/langchain/memory.html)\n",
        "\n",
        "#### 例：\n",
        "`ConversationBufferMemory`, `ConversationBufferWindowMemory`, `ConversationSummaryMemory`, etc.\n",
        "\n",
        "#### 概要：\n",
        "*  「BaseChatMessageHistory を継承したクラスたち」に対して、会話履歴の一部だけを使用したり、履歴を要約してプロンプトに使用する等の機能を提供する。\n",
        "*  v0.2 のドキュメントには記載がない (v0.1 のドキュメントには [Beta] と記載されている)\n"
      ],
      "metadata": {
        "id": "EzsSvGkJXz-H"
      }
    },
    {
      "cell_type": "markdown",
      "source": [
        "## 会話履歴による会話の継続性の基本的な考え方\n",
        "ユーザーによる最新の入力だけでなく、過去の会話履歴の Messages をプロンプトに入れてモデルに渡す。  \n",
        "参考：[How to add memory to chatbots](https://python.langchain.com/v0.2/docs/how_to/chatbots_memory/)"
      ],
      "metadata": {
        "id": "22Uq2y6UpTNw"
      }
    },
    {
      "cell_type": "code",
      "source": [
        "from langchain_core.messages import AIMessage, HumanMessage\n",
        "from langchain_core.prompts import ChatPromptTemplate, MessagesPlaceholder\n",
        "\n",
        "# Chat model を用意する\n",
        "model = ChatOpenAI(model=\"gpt-4o-mini\", temperature=0)\n",
        "\n",
        "# Chat template を用意する\n",
        "chat_prompt = ChatPromptTemplate.from_messages(\n",
        "    [\n",
        "        (\n",
        "            \"system\",\n",
        "            \"あなたは人間と会話するチャットボットです。\",\n",
        "        ),\n",
        "        MessagesPlaceholder(variable_name=\"messages\"), # 複数の Message をプロンプトに挿入するためのプレースホルダ\n",
        "    ]\n",
        ")\n",
        "\n",
        "# Output parser を用意する\n",
        "parser = StrOutputParser()\n",
        "\n",
        "# Chain を定義\n",
        "chain = chat_prompt | model | parser\n",
        "\n",
        "# Chain を実行\n",
        "answer = chain.invoke(\n",
        "    {\n",
        "        \"messages\": [\n",
        "            HumanMessage(\n",
        "                content=\"私の名前はジョンといいます。\"\n",
        "            ),\n",
        "            AIMessage(content=\"ジョンさんですね。よろしくお願いします。\"),\n",
        "            HumanMessage(content=\"私の名前がわかりますか。\"),\n",
        "        ],\n",
        "    }\n",
        ")\n",
        "print(answer)"
      ],
      "metadata": {
        "id": "qS8jMkpVp7ja"
      },
      "execution_count": null,
      "outputs": []
    },
    {
      "cell_type": "markdown",
      "source": [
        "## Chat history を使う\n",
        "まず、`ChatMessageHistory` がどのように会話履歴を保持するか確認する。"
      ],
      "metadata": {
        "id": "oOxqBk_xv70X"
      }
    },
    {
      "cell_type": "code",
      "source": [
        "from langchain_community.chat_message_histories import ChatMessageHistory\n",
        "\n",
        "# ChatMessageHistory のインスタンスを作成\n",
        "demo_ephemeral_chat_history = ChatMessageHistory()\n",
        "\n",
        "demo_ephemeral_chat_history.add_user_message(\n",
        "    \"私の名前はジョンといいます。\"\n",
        ")\n",
        "\n",
        "demo_ephemeral_chat_history.add_ai_message(\"ジョンさんですね。よろしくお願いします。\")\n",
        "\n",
        "demo_ephemeral_chat_history.messages"
      ],
      "metadata": {
        "id": "NwKC3tqvs9LA"
      },
      "execution_count": null,
      "outputs": []
    },
    {
      "cell_type": "markdown",
      "source": [
        "*  `ChatMessageHistory` は `add_user_message` や `add_ai_message` というメソッドを備えており、これを使って会話履歴の Message を追加保存していくことができる。\n",
        "*  追加した Message は、Message のリストとして保持される。"
      ],
      "metadata": {
        "id": "onBgsIlRwUse"
      }
    },
    {
      "cell_type": "markdown",
      "source": [
        "ユーザーの入力と、それに対するモデルからの回答を順次追加していき、それをプロンプトに含めることによって、会話履歴をもった継続性のある会話が可能となる。"
      ],
      "metadata": {
        "id": "_x-kCPYGxAYA"
      }
    },
    {
      "cell_type": "code",
      "source": [
        "demo_ephemeral_chat_history = ChatMessageHistory()\n",
        "\n",
        "# 1 番目の入力\n",
        "input1 = \"私の名前はジョンといいます。\"\n",
        "print(f\"INPUT1: {input1}\")\n",
        "\n",
        "demo_ephemeral_chat_history.add_user_message(input1)\n",
        "\n",
        "# 1 番目の入力に対して回答を出力\n",
        "response = chain.invoke(\n",
        "    {\n",
        "        \"messages\": demo_ephemeral_chat_history.messages,\n",
        "    }\n",
        ")\n",
        "print(f\"ANSWER1: {response}\")\n",
        "\n",
        "# 1 番目の回答を Chat history に追加\n",
        "demo_ephemeral_chat_history.add_ai_message(response)\n",
        "\n",
        "# 2 番目の入力\n",
        "input2 = \"私の名前がわかりますか。\"\n",
        "print(f\"INPUT2: {input2}\")\n",
        "\n",
        "demo_ephemeral_chat_history.add_user_message(input2)\n",
        "\n",
        "# 2 番目の入力に対して回答を出力\n",
        "answer = chain.invoke(\n",
        "    {\n",
        "        \"messages\": demo_ephemeral_chat_history.messages,\n",
        "    }\n",
        ")\n",
        "print(f\"ANSWER2: {answer}\")"
      ],
      "metadata": {
        "id": "ZOw17CLGtcfK"
      },
      "execution_count": null,
      "outputs": []
    },
    {
      "cell_type": "markdown",
      "source": [
        "## Chat history を RunnableWithMessageHistory と組み合わせて使用する\n",
        "*  `RunnableWithMessageHistory` は別の Runnable のために Chat history を管理してくれる Runnable 。\n",
        "*  別の Runnable (≒ Chain) をラップして、その Chat history の読み出しや更新を行う。\n",
        "*  `add_user_message` や `add_ai_message` を使ってコードを書かずに済むが、抽象化されてしまっているためややわかりにくく、コードの書き方もクラスの制約を受ける。\n",
        "\n",
        "[langchain_core.runnables.history.RunnableWithMessageHistory](https://python.langchain.com/v0.2/api_reference/core/runnables/langchain_core.runnables.history.RunnableWithMessageHistory.html)"
      ],
      "metadata": {
        "id": "PCo_K_Y8pmyH"
      }
    },
    {
      "cell_type": "code",
      "source": [
        "from langchain_openai import ChatOpenAI\n",
        "from langchain_core.prompts import ChatPromptTemplate, SystemMessagePromptTemplate, HumanMessagePromptTemplate, AIMessagePromptTemplate, MessagesPlaceholder\n",
        "from langchain_core.messages import AIMessage, HumanMessage, SystemMessage\n",
        "from langchain_core.output_parsers import StrOutputParser\n",
        "\n",
        "from langchain_community.chat_message_histories.in_memory import ChatMessageHistory\n",
        "from langchain_core.chat_history import BaseChatMessageHistory\n",
        "from langchain_core.runnables.history import RunnableWithMessageHistory\n",
        "\n",
        "# Chat model を用意する\n",
        "model = ChatOpenAI(model=\"gpt-4o-mini\", temperature=0)\n",
        "\n",
        "# 特定のセッション ID に対する ChatMessageHistory のインスタンスを作成\n",
        "store = {}\n",
        "def get_session_history(session_id: str) -> BaseChatMessageHistory:\n",
        "    if session_id not in store:\n",
        "        store[session_id] = ChatMessageHistory()\n",
        "    return store[session_id]\n",
        "\n",
        "\n",
        "# Prompt template を用意する\n",
        "chat_prompt = ChatPromptTemplate.from_messages(\n",
        "  [\n",
        "      SystemMessagePromptTemplate.from_template(\"あなたは人間と会話するチャットボットです\"),\n",
        "      MessagesPlaceholder(variable_name=\"chat_history\"),\n",
        "      HumanMessagePromptTemplate.from_template(\"{input}\")\n",
        "  ]\n",
        ")\n",
        "\n",
        "# Output parser を用意する\n",
        "parser = StrOutputParser()\n",
        "\n",
        "# Chain を定義する\n",
        "chain = chat_prompt | model | parser\n",
        "\n",
        "# RunnableWithMessageHistory のインスタンスを作成\n",
        "runnable_with_history = RunnableWithMessageHistory(\n",
        "    chain,\n",
        "    get_session_history,\n",
        "    input_messages_key=\"input\",\n",
        "    history_messages_key=\"chat_history\",\n",
        ")"
      ],
      "metadata": {
        "id": "MShzrcWT4wtF"
      },
      "execution_count": null,
      "outputs": []
    },
    {
      "cell_type": "code",
      "source": [
        "print('Write Quit, Exit or Bye to quit.')\n",
        "while True:\n",
        "    q = input('Your prompt: ')\n",
        "    if q.lower() in ['quit', 'exit', 'bye']:\n",
        "        print('Quitting ... bye bye!')\n",
        "        break\n",
        "\n",
        "    answer = runnable_with_history.invoke({\"input\": q}, config={\"configurable\": {\"session_id\": \"a123\"}})\n",
        "    print(f'\\nAnswer: {answer}')"
      ],
      "metadata": {
        "id": "XLeSBxDkoji3"
      },
      "execution_count": null,
      "outputs": []
    },
    {
      "cell_type": "markdown",
      "source": [
        "## SQLChatMessageHistory を使用する\n",
        "[langchain_community.chat_message_histories.sql.SQLChatMessageHistory](https://python.langchain.com/v0.2/api_reference/community/chat_message_histories/langchain_community.chat_message_histories.sql.SQLChatMessageHistory.html)  \n",
        "参考：[How to add message history](https://python.langchain.com/v0.2/docs/how_to/message_history/)"
      ],
      "metadata": {
        "id": "qQtrxGRWA6z6"
      }
    },
    {
      "cell_type": "code",
      "source": [
        "from langchain_openai import ChatOpenAI\n",
        "from langchain_core.prompts import ChatPromptTemplate, SystemMessagePromptTemplate, HumanMessagePromptTemplate, AIMessagePromptTemplate, MessagesPlaceholder\n",
        "from langchain_core.messages import AIMessage, HumanMessage, SystemMessage\n",
        "from langchain_core.output_parsers import StrOutputParser\n",
        "\n",
        "from langchain_community.chat_message_histories.sql import SQLChatMessageHistory\n",
        "from langchain_core.chat_history import BaseChatMessageHistory\n",
        "from langchain_core.runnables.history import RunnableWithMessageHistory\n",
        "\n",
        "# Chat model を用意する\n",
        "model = ChatOpenAI(model=\"gpt-4o-mini\", temperature=0)\n",
        "\n",
        "# 特定のセッション ID に対する SQLChatMessageHistory のインスタンスを作成\n",
        "def get_session_history_sql(session_id):\n",
        "    return SQLChatMessageHistory(session_id, \"sqlite:///memory.db\")\n",
        "\n",
        "# Prompt template を用意する\n",
        "chat_prompt = ChatPromptTemplate.from_messages(\n",
        "  [\n",
        "      SystemMessagePromptTemplate.from_template(\"あなたは人間と会話するチャットボットです\"),\n",
        "      MessagesPlaceholder(variable_name=\"chat_history\"),\n",
        "      HumanMessagePromptTemplate.from_template(\"{input}\")\n",
        "  ]\n",
        ")\n",
        "\n",
        "# Output parser を用意する\n",
        "parser = StrOutputParser()\n",
        "\n",
        "# Chain を定義する\n",
        "chain = chat_prompt | model | parser\n",
        "\n",
        "# RunnableWithMessageHistory のインスタンスを作成\n",
        "runnable_with_history = RunnableWithMessageHistory(\n",
        "    chain,\n",
        "    get_session_history_sql,\n",
        "    input_messages_key=\"input\",\n",
        "    history_messages_key=\"chat_history\",\n",
        ")"
      ],
      "metadata": {
        "id": "uDZLK-Ye8t-m"
      },
      "execution_count": null,
      "outputs": []
    },
    {
      "cell_type": "code",
      "source": [
        "print('Write Quit, Exit or Bye to quit.')\n",
        "while True:\n",
        "    q = input('Your prompt: ')\n",
        "    if q.lower() in ['quit', 'exit', 'bye']:\n",
        "        print('Quitting ... bye bye!')\n",
        "        break\n",
        "\n",
        "    answer = runnable_with_history.invoke({\"input\": q}, config={\"configurable\": {\"session_id\": \"a456\"}})\n",
        "    print(f'\\nAnswer: {answer}')"
      ],
      "metadata": {
        "id": "Y3aaVHmQ8zH6"
      },
      "execution_count": null,
      "outputs": []
    },
    {
      "cell_type": "code",
      "source": [
        "! rm memory.db"
      ],
      "metadata": {
        "id": "aXkRVWMGARHo"
      },
      "execution_count": null,
      "outputs": []
    },
    {
      "cell_type": "markdown",
      "source": [
        "Chat history の各クラスを利用して、様々なデータベースに会話履歴を保存することができます。\n",
        "https://python.langchain.com/v0.2/docs/integrations/memory/  \n",
        "(ドキュメントのタイトルは Memory ですが、記載されている内容は Chat history です)"
      ],
      "metadata": {
        "id": "tr7T448xAri9"
      }
    }
  ]
}